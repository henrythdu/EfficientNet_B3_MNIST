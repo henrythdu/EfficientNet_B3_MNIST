{
 "cells": [
  {
   "cell_type": "markdown",
   "metadata": {},
   "source": [
    "# Setting up the model"
   ]
  },
  {
   "cell_type": "code",
   "execution_count": 1,
   "metadata": {},
   "outputs": [
    {
     "data": {
      "text/plain": [
       "'cpu'"
      ]
     },
     "execution_count": 1,
     "metadata": {},
     "output_type": "execute_result"
    }
   ],
   "source": [
    "import torch\n",
    "device = \"cuda\" if torch.cuda.is_available() else \"cpu\"\n",
    "device\n"
   ]
  },
  {
   "cell_type": "code",
   "execution_count": 2,
   "metadata": {},
   "outputs": [],
   "source": [
    "from utils.model import create_effnetb3_model\n",
    "effnetB3, effnetB3_transform  = create_effnetb3_model()"
   ]
  },
  {
   "cell_type": "code",
   "execution_count": 3,
   "metadata": {},
   "outputs": [],
   "source": [
    "from torchvision import transforms\n",
    "image_transform = transforms.Compose([transforms.Grayscale(num_output_channels=3),\n",
    "                                                  effnetB3_transform])"
   ]
  },
  {
   "cell_type": "code",
   "execution_count": 4,
   "metadata": {},
   "outputs": [
    {
     "data": {
      "text/plain": [
       "============================================================================================================================================\n",
       "Layer (type (var_name))                                      Input Shape          Output Shape         Param #              Trainable\n",
       "============================================================================================================================================\n",
       "EfficientNet (EfficientNet)                                  [1, 3, 320, 320]     [1, 10]              --                   Partial\n",
       "├─Sequential (features)                                      [1, 3, 320, 320]     [1, 1536, 10, 10]    --                   False\n",
       "│    └─Conv2dNormActivation (0)                              [1, 3, 320, 320]     [1, 40, 160, 160]    --                   False\n",
       "│    │    └─Conv2d (0)                                       [1, 3, 320, 320]     [1, 40, 160, 160]    (1,080)              False\n",
       "│    │    └─BatchNorm2d (1)                                  [1, 40, 160, 160]    [1, 40, 160, 160]    (80)                 False\n",
       "│    │    └─SiLU (2)                                         [1, 40, 160, 160]    [1, 40, 160, 160]    --                   --\n",
       "│    └─Sequential (1)                                        [1, 40, 160, 160]    [1, 24, 160, 160]    --                   False\n",
       "│    │    └─MBConv (0)                                       [1, 40, 160, 160]    [1, 24, 160, 160]    (2,298)              False\n",
       "│    │    └─MBConv (1)                                       [1, 24, 160, 160]    [1, 24, 160, 160]    (1,206)              False\n",
       "│    └─Sequential (2)                                        [1, 24, 160, 160]    [1, 32, 80, 80]      --                   False\n",
       "│    │    └─MBConv (0)                                       [1, 24, 160, 160]    [1, 32, 80, 80]      (11,878)             False\n",
       "│    │    └─MBConv (1)                                       [1, 32, 80, 80]      [1, 32, 80, 80]      (18,120)             False\n",
       "│    │    └─MBConv (2)                                       [1, 32, 80, 80]      [1, 32, 80, 80]      (18,120)             False\n",
       "│    └─Sequential (3)                                        [1, 32, 80, 80]      [1, 48, 40, 40]      --                   False\n",
       "│    │    └─MBConv (0)                                       [1, 32, 80, 80]      [1, 48, 40, 40]      (24,296)             False\n",
       "│    │    └─MBConv (1)                                       [1, 48, 40, 40]      [1, 48, 40, 40]      (43,308)             False\n",
       "│    │    └─MBConv (2)                                       [1, 48, 40, 40]      [1, 48, 40, 40]      (43,308)             False\n",
       "│    └─Sequential (4)                                        [1, 48, 40, 40]      [1, 96, 20, 20]      --                   False\n",
       "│    │    └─MBConv (0)                                       [1, 48, 40, 40]      [1, 96, 20, 20]      (52,620)             False\n",
       "│    │    └─MBConv (1)                                       [1, 96, 20, 20]      [1, 96, 20, 20]      (146,520)            False\n",
       "│    │    └─MBConv (2)                                       [1, 96, 20, 20]      [1, 96, 20, 20]      (146,520)            False\n",
       "│    │    └─MBConv (3)                                       [1, 96, 20, 20]      [1, 96, 20, 20]      (146,520)            False\n",
       "│    │    └─MBConv (4)                                       [1, 96, 20, 20]      [1, 96, 20, 20]      (146,520)            False\n",
       "│    └─Sequential (5)                                        [1, 96, 20, 20]      [1, 136, 20, 20]     --                   False\n",
       "│    │    └─MBConv (0)                                       [1, 96, 20, 20]      [1, 136, 20, 20]     (178,856)            False\n",
       "│    │    └─MBConv (1)                                       [1, 136, 20, 20]     [1, 136, 20, 20]     (302,226)            False\n",
       "│    │    └─MBConv (2)                                       [1, 136, 20, 20]     [1, 136, 20, 20]     (302,226)            False\n",
       "│    │    └─MBConv (3)                                       [1, 136, 20, 20]     [1, 136, 20, 20]     (302,226)            False\n",
       "│    │    └─MBConv (4)                                       [1, 136, 20, 20]     [1, 136, 20, 20]     (302,226)            False\n",
       "│    └─Sequential (6)                                        [1, 136, 20, 20]     [1, 232, 10, 10]     --                   False\n",
       "│    │    └─MBConv (0)                                       [1, 136, 20, 20]     [1, 232, 10, 10]     (380,754)            False\n",
       "│    │    └─MBConv (1)                                       [1, 232, 10, 10]     [1, 232, 10, 10]     (849,642)            False\n",
       "│    │    └─MBConv (2)                                       [1, 232, 10, 10]     [1, 232, 10, 10]     (849,642)            False\n",
       "│    │    └─MBConv (3)                                       [1, 232, 10, 10]     [1, 232, 10, 10]     (849,642)            False\n",
       "│    │    └─MBConv (4)                                       [1, 232, 10, 10]     [1, 232, 10, 10]     (849,642)            False\n",
       "│    │    └─MBConv (5)                                       [1, 232, 10, 10]     [1, 232, 10, 10]     (849,642)            False\n",
       "│    └─Sequential (7)                                        [1, 232, 10, 10]     [1, 384, 10, 10]     --                   False\n",
       "│    │    └─MBConv (0)                                       [1, 232, 10, 10]     [1, 384, 10, 10]     (1,039,258)          False\n",
       "│    │    └─MBConv (1)                                       [1, 384, 10, 10]     [1, 384, 10, 10]     (2,244,960)          False\n",
       "│    └─Conv2dNormActivation (8)                              [1, 384, 10, 10]     [1, 1536, 10, 10]    --                   False\n",
       "│    │    └─Conv2d (0)                                       [1, 384, 10, 10]     [1, 1536, 10, 10]    (589,824)            False\n",
       "│    │    └─BatchNorm2d (1)                                  [1, 1536, 10, 10]    [1, 1536, 10, 10]    (3,072)              False\n",
       "│    │    └─SiLU (2)                                         [1, 1536, 10, 10]    [1, 1536, 10, 10]    --                   --\n",
       "├─AdaptiveAvgPool2d (avgpool)                                [1, 1536, 10, 10]    [1, 1536, 1, 1]      --                   --\n",
       "├─Sequential (classifier)                                    [1, 1536]            [1, 10]              --                   True\n",
       "│    └─Dropout (0)                                           [1, 1536]            [1, 1536]            --                   --\n",
       "│    └─Linear (1)                                            [1, 1536]            [1, 10]              15,370               True\n",
       "============================================================================================================================================\n",
       "Total params: 10,711,602\n",
       "Trainable params: 15,370\n",
       "Non-trainable params: 10,696,232\n",
       "Total mult-adds (Units.GIGABYTES): 1.96\n",
       "============================================================================================================================================\n",
       "Input size (MB): 1.23\n",
       "Forward/backward pass size (MB): 424.20\n",
       "Params size (MB): 42.85\n",
       "Estimated Total Size (MB): 468.27\n",
       "============================================================================================================================================"
      ]
     },
     "execution_count": 4,
     "metadata": {},
     "output_type": "execute_result"
    }
   ],
   "source": [
    "from torchinfo import summary\n",
    "summary(effnetB3,\n",
    "        input_size=(1, 3, 320, 320),\n",
    "        col_names=[\"input_size\", \"output_size\", \"num_params\", \"trainable\"],\n",
    "        col_width=20,\n",
    "        row_settings=[\"var_names\"])"
   ]
  },
  {
   "cell_type": "markdown",
   "metadata": {},
   "source": [
    "# Getting Data"
   ]
  },
  {
   "cell_type": "code",
   "execution_count": 5,
   "metadata": {},
   "outputs": [],
   "source": [
    "from torchvision import datasets"
   ]
  },
  {
   "cell_type": "code",
   "execution_count": 6,
   "metadata": {},
   "outputs": [],
   "source": [
    "train_data = datasets.MNIST(root = \"data\", train = True, transform = image_transform, download = True)\n",
    "test_data = datasets.MNIST(root = \"data\", train = False, transform = image_transform, download = True)"
   ]
  },
  {
   "cell_type": "code",
   "execution_count": 7,
   "metadata": {},
   "outputs": [],
   "source": [
    "from torch.utils.data import DataLoader\n",
    "train_dataloader = DataLoader(\n",
    "                              dataset = train_data,                          \n",
    "                              batch_size= 32,\n",
    "                              shuffle = True,\n",
    "                              )\n",
    "test_dataloader =  DataLoader(\n",
    "                              dataset=test_data,\n",
    "                              batch_size= 32,\n",
    "                              shuffle = False,\n",
    "                              )"
   ]
  },
  {
   "cell_type": "markdown",
   "metadata": {},
   "source": [
    "# Create the model"
   ]
  },
  {
   "cell_type": "code",
   "execution_count": 14,
   "metadata": {},
   "outputs": [],
   "source": [
    "from utils.model import create_effnetb3_model\n",
    "effnetB3, transforms = create_effnetb3_model()"
   ]
  },
  {
   "cell_type": "code",
   "execution_count": 16,
   "metadata": {},
   "outputs": [
    {
     "data": {
      "text/plain": [
       "============================================================================================================================================\n",
       "Layer (type (var_name))                                      Input Shape          Output Shape         Param #              Trainable\n",
       "============================================================================================================================================\n",
       "EfficientNet (EfficientNet)                                  [32, 3, 224, 224]    [32, 10]             --                   Partial\n",
       "├─Sequential (features)                                      [32, 3, 224, 224]    [32, 1536, 7, 7]     --                   False\n",
       "│    └─Conv2dNormActivation (0)                              [32, 3, 224, 224]    [32, 40, 112, 112]   --                   False\n",
       "│    │    └─Conv2d (0)                                       [32, 3, 224, 224]    [32, 40, 112, 112]   (1,080)              False\n",
       "│    │    └─BatchNorm2d (1)                                  [32, 40, 112, 112]   [32, 40, 112, 112]   (80)                 False\n",
       "│    │    └─SiLU (2)                                         [32, 40, 112, 112]   [32, 40, 112, 112]   --                   --\n",
       "│    └─Sequential (1)                                        [32, 40, 112, 112]   [32, 24, 112, 112]   --                   False\n",
       "│    │    └─MBConv (0)                                       [32, 40, 112, 112]   [32, 24, 112, 112]   (2,298)              False\n",
       "│    │    └─MBConv (1)                                       [32, 24, 112, 112]   [32, 24, 112, 112]   (1,206)              False\n",
       "│    └─Sequential (2)                                        [32, 24, 112, 112]   [32, 32, 56, 56]     --                   False\n",
       "│    │    └─MBConv (0)                                       [32, 24, 112, 112]   [32, 32, 56, 56]     (11,878)             False\n",
       "│    │    └─MBConv (1)                                       [32, 32, 56, 56]     [32, 32, 56, 56]     (18,120)             False\n",
       "│    │    └─MBConv (2)                                       [32, 32, 56, 56]     [32, 32, 56, 56]     (18,120)             False\n",
       "│    └─Sequential (3)                                        [32, 32, 56, 56]     [32, 48, 28, 28]     --                   False\n",
       "│    │    └─MBConv (0)                                       [32, 32, 56, 56]     [32, 48, 28, 28]     (24,296)             False\n",
       "│    │    └─MBConv (1)                                       [32, 48, 28, 28]     [32, 48, 28, 28]     (43,308)             False\n",
       "│    │    └─MBConv (2)                                       [32, 48, 28, 28]     [32, 48, 28, 28]     (43,308)             False\n",
       "│    └─Sequential (4)                                        [32, 48, 28, 28]     [32, 96, 14, 14]     --                   False\n",
       "│    │    └─MBConv (0)                                       [32, 48, 28, 28]     [32, 96, 14, 14]     (52,620)             False\n",
       "│    │    └─MBConv (1)                                       [32, 96, 14, 14]     [32, 96, 14, 14]     (146,520)            False\n",
       "│    │    └─MBConv (2)                                       [32, 96, 14, 14]     [32, 96, 14, 14]     (146,520)            False\n",
       "│    │    └─MBConv (3)                                       [32, 96, 14, 14]     [32, 96, 14, 14]     (146,520)            False\n",
       "│    │    └─MBConv (4)                                       [32, 96, 14, 14]     [32, 96, 14, 14]     (146,520)            False\n",
       "│    └─Sequential (5)                                        [32, 96, 14, 14]     [32, 136, 14, 14]    --                   False\n",
       "│    │    └─MBConv (0)                                       [32, 96, 14, 14]     [32, 136, 14, 14]    (178,856)            False\n",
       "│    │    └─MBConv (1)                                       [32, 136, 14, 14]    [32, 136, 14, 14]    (302,226)            False\n",
       "│    │    └─MBConv (2)                                       [32, 136, 14, 14]    [32, 136, 14, 14]    (302,226)            False\n",
       "│    │    └─MBConv (3)                                       [32, 136, 14, 14]    [32, 136, 14, 14]    (302,226)            False\n",
       "│    │    └─MBConv (4)                                       [32, 136, 14, 14]    [32, 136, 14, 14]    (302,226)            False\n",
       "│    └─Sequential (6)                                        [32, 136, 14, 14]    [32, 232, 7, 7]      --                   False\n",
       "│    │    └─MBConv (0)                                       [32, 136, 14, 14]    [32, 232, 7, 7]      (380,754)            False\n",
       "│    │    └─MBConv (1)                                       [32, 232, 7, 7]      [32, 232, 7, 7]      (849,642)            False\n",
       "│    │    └─MBConv (2)                                       [32, 232, 7, 7]      [32, 232, 7, 7]      (849,642)            False\n",
       "│    │    └─MBConv (3)                                       [32, 232, 7, 7]      [32, 232, 7, 7]      (849,642)            False\n",
       "│    │    └─MBConv (4)                                       [32, 232, 7, 7]      [32, 232, 7, 7]      (849,642)            False\n",
       "│    │    └─MBConv (5)                                       [32, 232, 7, 7]      [32, 232, 7, 7]      (849,642)            False\n",
       "│    └─Sequential (7)                                        [32, 232, 7, 7]      [32, 384, 7, 7]      --                   False\n",
       "│    │    └─MBConv (0)                                       [32, 232, 7, 7]      [32, 384, 7, 7]      (1,039,258)          False\n",
       "│    │    └─MBConv (1)                                       [32, 384, 7, 7]      [32, 384, 7, 7]      (2,244,960)          False\n",
       "│    └─Conv2dNormActivation (8)                              [32, 384, 7, 7]      [32, 1536, 7, 7]     --                   False\n",
       "│    │    └─Conv2d (0)                                       [32, 384, 7, 7]      [32, 1536, 7, 7]     (589,824)            False\n",
       "│    │    └─BatchNorm2d (1)                                  [32, 1536, 7, 7]     [32, 1536, 7, 7]     (3,072)              False\n",
       "│    │    └─SiLU (2)                                         [32, 1536, 7, 7]     [32, 1536, 7, 7]     --                   --\n",
       "├─AdaptiveAvgPool2d (avgpool)                                [32, 1536, 7, 7]     [32, 1536, 1, 1]     --                   --\n",
       "├─Sequential (classifier)                                    [32, 1536]           [32, 10]             --                   True\n",
       "│    └─Dropout (0)                                           [32, 1536]           [32, 1536]           --                   --\n",
       "│    └─Linear (1)                                            [32, 1536]           [32, 10]             15,370               True\n",
       "============================================================================================================================================\n",
       "Total params: 10,711,602\n",
       "Trainable params: 15,370\n",
       "Non-trainable params: 10,696,232\n",
       "Total mult-adds (Units.GIGABYTES): 30.76\n",
       "============================================================================================================================================\n",
       "Input size (MB): 19.27\n",
       "Forward/backward pass size (MB): 6654.07\n",
       "Params size (MB): 42.85\n",
       "Estimated Total Size (MB): 6716.18\n",
       "============================================================================================================================================"
      ]
     },
     "execution_count": 16,
     "metadata": {},
     "output_type": "execute_result"
    }
   ],
   "source": [
    "from torchinfo import summary\n",
    "\n",
    "summary(effnetB3,\n",
    "        input_size=(32, 3, 224, 224),\n",
    "        col_names=[\"input_size\", \"output_size\", \"num_params\", \"trainable\"],\n",
    "        col_width=20,\n",
    "        row_settings=[\"var_names\"])"
   ]
  },
  {
   "cell_type": "markdown",
   "metadata": {},
   "source": [
    "# Training the model"
   ]
  },
  {
   "cell_type": "code",
   "execution_count": 17,
   "metadata": {},
   "outputs": [],
   "source": [
    "import torch\n",
    "from utils import engine\n",
    "\n",
    "loss_fn = torch.nn.CrossEntropyLoss(label_smoothing = 0.1)\n",
    "optimizer = torch.optim.Adam(params = effnetB3.parameters(), lr=5e-4, weight_decay=1e-5)\n",
    "scheduler = torch.optim.lr_scheduler.ReduceLROnPlateau(optimizer,\"min\",patience=5)\n",
    "early_stopping = engine.EarlyStopping(tolerance=5, min_delta=10)"
   ]
  },
  {
   "cell_type": "code",
   "execution_count": 18,
   "metadata": {},
   "outputs": [
    {
     "data": {
      "application/vnd.jupyter.widget-view+json": {
       "model_id": "49ada9831121475caa288ca927e6f2bf",
       "version_major": 2,
       "version_minor": 0
      },
      "text/plain": [
       "  0%|          | 0/1 [00:00<?, ?it/s]"
      ]
     },
     "metadata": {},
     "output_type": "display_data"
    }
   ],
   "source": [
    "from utils import engine\n",
    "EPOCHS = 1\n",
    "\n",
    "results = engine.train(model=effnetB3,\n",
    "                      train_dataloader=train_dataloader,\n",
    "                      test_dataloader=test_dataloader,\n",
    "                      epochs=EPOCHS,\n",
    "                      optimizer=optimizer,\n",
    "                      loss_fn=loss_fn,\n",
    "                      scheduler = scheduler,\n",
    "                      device=device)"
   ]
  },
  {
   "cell_type": "markdown",
   "metadata": {},
   "source": [
    "# Saving Model"
   ]
  },
  {
   "cell_type": "code",
   "execution_count": null,
   "metadata": {},
   "outputs": [],
   "source": [
    "from utils.util import save_model\n",
    "save_model(model = mobileNetV3,\n",
    "                   target_dir = \"models\",\n",
    "                   model_name = f\"mobileNetV3_quickdraw_animals_epoch_{EPOCHS}.pth\")"
   ]
  }
 ],
 "metadata": {
  "kernelspec": {
   "display_name": "base",
   "language": "python",
   "name": "python3"
  },
  "language_info": {
   "codemirror_mode": {
    "name": "ipython",
    "version": 3
   },
   "file_extension": ".py",
   "mimetype": "text/x-python",
   "name": "python",
   "nbconvert_exporter": "python",
   "pygments_lexer": "ipython3",
   "version": "3.11.5"
  }
 },
 "nbformat": 4,
 "nbformat_minor": 2
}
